{
 "cells": [
  {
   "cell_type": "code",
   "execution_count": 251,
   "metadata": {},
   "outputs": [],
   "source": [
    "def postfix_string(arr):\n",
    "    postfix=[]\n",
    "    i=0\n",
    "    while(i<len(arr)):\n",
    "        if(type(arr[i])==int or arr[i].isalpha() or arr[i]==''):\n",
    "            postfix.append(arr[i])\n",
    "        if(arr[i]=='+' and len(postfix)>1):\n",
    "            var1 = postfix.pop()\n",
    "            var2 = postfix.pop()\n",
    "            postfix.append(var2+var1)\n",
    "        elif(arr[i]=='-' and len(postfix)>1):\n",
    "            var1 = postfix.pop()\n",
    "            var2 = postfix.pop()\n",
    "            postfix.append(var2[:var1] + var2[var1+1:])\n",
    "        elif(arr[i]=='*' and len(postfix)>1):\n",
    "            var1 = postfix.pop()\n",
    "            var2 = postfix.pop()\n",
    "            postfix.append(var1*var2)\n",
    "        i+=1 \n",
    "    result = postfix.pop()\n",
    "    return result"
   ]
  },
  {
   "cell_type": "code",
   "execution_count": 255,
   "metadata": {},
   "outputs": [
    {
     "data": {
      "text/plain": [
       "'abce'"
      ]
     },
     "execution_count": 255,
     "metadata": {},
     "output_type": "execute_result"
    }
   ],
   "source": [
    "X= ['a','b','+','c','+','d','+','e','+',3,'-']\n",
    "postfix_string(X)"
   ]
  },
  {
   "cell_type": "code",
   "execution_count": 230,
   "metadata": {},
   "outputs": [],
   "source": [
    "class ListNode():\n",
    "      def __init__(self, val, next=None):\n",
    "            self.val = val\n",
    "            self.next = next\n",
    "\n",
    "class AstronomicalInt():\n",
    "        def convert(self, num:str) -> ListNode:\n",
    "            if(num is None or num==''):\n",
    "                return None\n",
    "            head_node = ListNode(int(num[0]))\n",
    "            n = len(num)\n",
    "            curr_node = head_node\n",
    "            for i in range(n-1):\n",
    "                curr_node.next = ListNode(int(num[i+1]))\n",
    "                curr_node = curr_node.next \n",
    "            return head_node\n",
    "    \n",
    "        def reverse(self,num:ListNode) -> ListNode:\n",
    "            if(num is None or num.next is None):\n",
    "                return num\n",
    "            prev_node = None\n",
    "            next_node = None\n",
    "            curr_node = num\n",
    "            while(curr_node):\n",
    "                next_node = curr_node.next\n",
    "                curr_node.next = prev_node\n",
    "                prev_node = curr_node\n",
    "                curr_node = next_node\n",
    "            num = prev_node\n",
    "            return num\n",
    "        \n",
    "        def add(self, num1:ListNode, num2: ListNode) -> ListNode:\n",
    "            # Returns head of new linked list after adding the given lists\n",
    "            num1 = self.reverse(num1)\n",
    "            num2 = self.reverse(num2)\n",
    "            sum_val = 0\n",
    "            carry = 0\n",
    "            add_result = None\n",
    "            prev = None\n",
    "            while(num1 or num2):\n",
    "                sum_val = carry + (num1.val if num1 else 0) + (num2.val if num2 else 0) \n",
    "                carry = 1 if sum_val>=10 else 0\n",
    "                sum_val %= 10\n",
    "                temp = ListNode(sum_val)\n",
    "                if(add_result is None):\n",
    "                    add_result = temp\n",
    "                else: \n",
    "                    prev.next = temp\n",
    "                prev = temp\n",
    "                if(num1 is not None):\n",
    "                    num1 = num1.next\n",
    "                if(num2 is not None):\n",
    "                    num2 = num2.next\n",
    "            if(carry>0):\n",
    "                prev.next = ListNode(carry)\n",
    "            ans = self.reverse(add_result)\n",
    "            return ans\n",
    "\n",
    "        def to_string(self, head):\n",
    "            num = []\n",
    "            curr = head\n",
    "            while(curr):\n",
    "                num.append(curr.val)\n",
    "                curr = curr.next\n",
    "            num = ''.join([str(i) for i in num])\n",
    "            return num"
   ]
  },
  {
   "cell_type": "code",
   "execution_count": 231,
   "metadata": {},
   "outputs": [],
   "source": [
    "ast = AstronomicalInt()\n",
    "n1 = ast.convert(\"1234\")\n",
    "n2 = ast.convert(\"16\")"
   ]
  },
  {
   "cell_type": "code",
   "execution_count": 232,
   "metadata": {},
   "outputs": [
    {
     "name": "stdout",
     "output_type": "stream",
     "text": [
      "1234\n",
      "16\n"
     ]
    }
   ],
   "source": [
    "print(ast.to_string(n1))\n",
    "print(ast.to_string(n2))"
   ]
  },
  {
   "cell_type": "code",
   "execution_count": 233,
   "metadata": {},
   "outputs": [
    {
     "name": "stdout",
     "output_type": "stream",
     "text": [
      "<__main__.ListNode object at 0x0000013566E526C8>\n"
     ]
    }
   ],
   "source": [
    "n3 = ast.add(n1, n2)\n",
    "print(n3)"
   ]
  },
  {
   "cell_type": "code",
   "execution_count": 234,
   "metadata": {},
   "outputs": [
    {
     "name": "stdout",
     "output_type": "stream",
     "text": [
      "1250\n"
     ]
    }
   ],
   "source": [
    "print(ast.to_string(n3))"
   ]
  },
  {
   "cell_type": "code",
   "execution_count": 265,
   "metadata": {},
   "outputs": [],
   "source": [
    "# Import the collections module\n",
    "from collections import defaultdict\n",
    "\n",
    "def countAtoms(formula):\n",
    "    var = formula\n",
    "    n=len(var)\n",
    "    count_map = defaultdict(int)\n",
    "    st = [1]\n",
    "    digits = \"\"\n",
    "    lower = \"\"\n",
    "    for i in range(n-1,-1,-1):\n",
    "        if(var[i].isdigit()):\n",
    "            digits = var[i] + digits\n",
    "            continue\n",
    "        elif(var[i].islower()):\n",
    "            lower = var[i] + lower\n",
    "            continue\n",
    "        elif(var[i] == ')'):\n",
    "            st.append(st[-1]*int(digits or 1))\n",
    "            digits = ''\n",
    "            continue\n",
    "        elif(var[i] == '('):\n",
    "            st.pop()\n",
    "            continue\n",
    "        else:\n",
    "            element = var[i]+lower\n",
    "            count_map[element] = count_map[element] + (st[-1]*int(digits or 1))\n",
    "            digits = ''\n",
    "            lower = ''\n",
    "    \n",
    "    string = ''\n",
    "    count_map = sorted(count_map.items())\n",
    "    for key,value in count_map:\n",
    "        string += key + str('' if(value==1) else value)\n",
    "    return string"
   ]
  },
  {
   "cell_type": "code",
   "execution_count": 269,
   "metadata": {},
   "outputs": [
    {
     "data": {
      "text/plain": [
       "'C6FeK4N6'"
      ]
     },
     "execution_count": 269,
     "metadata": {},
     "output_type": "execute_result"
    }
   ],
   "source": [
    "countAtoms('K4(Fe(CN)6)')"
   ]
  },
  {
   "cell_type": "code",
   "execution_count": 271,
   "metadata": {},
   "outputs": [],
   "source": [
    "def combination_check(n,st):\n",
    "    n = str(n)\n",
    "    st = st.split(\" \")\n",
    "    unique_digits = list(sorted(set(n)))\n",
    "    unique_words = list(set(st)) if(len(st) != len(set(st))) else st\n",
    "    if(len(n)!=len(st)):\n",
    "        return False\n",
    "    for i in range(len(n)):\n",
    "        first_idx = unique_digits.index(n[i])\n",
    "        second_idx = unique_words.index(st[i])\n",
    "        if(first_idx!=second_idx):\n",
    "            return False\n",
    "    return True"
   ]
  },
  {
   "cell_type": "code",
   "execution_count": 273,
   "metadata": {},
   "outputs": [
    {
     "data": {
      "text/plain": [
       "True"
      ]
     },
     "execution_count": 273,
     "metadata": {},
     "output_type": "execute_result"
    }
   ],
   "source": [
    "combination_check(123123,'ape cat dog ape cat dog')"
   ]
  },
  {
   "cell_type": "code",
   "execution_count": 189,
   "metadata": {},
   "outputs": [],
   "source": [
    "# Reference: https://www.geeksforgeeks.org/sum-of-maximum-elements-of-all-possible-sub-arrays-of-an-array/.\n",
    "def diff_max_min(arr):\n",
    "    difference_max_min = 0\n",
    "    n = len(arr)\n",
    "    \n",
    "    # Calculate maximum from all the contiguous subarray.\n",
    "    left_sum = [0]*n\n",
    "    right_sum = [0]*n\n",
    "    \n",
    "    max_stack = []\n",
    "    for i in range(0,n):\n",
    "        while(len(max_stack)>0 and arr[max_stack[-1]]<=arr[i]):\n",
    "            left_sum[i] += left_sum[max_stack[-1]] + 1\n",
    "            max_stack.pop()\n",
    "        max_stack.append(i)\n",
    "    max_stack.clear()\n",
    "    \n",
    "    for j in range(n-1,-1,-1):\n",
    "        while(len(max_stack)>0 and arr[max_stack[-1]]<arr[j]):\n",
    "            right_sum[j] += right_sum[max_stack[-1]] + 1\n",
    "            max_stack.pop()\n",
    "        max_stack.append(j)\n",
    "    max_stack.clear()\n",
    "    \n",
    "    max_sum = 0\n",
    "    # Calculate the final sum.\n",
    "    for i in range(0,n):\n",
    "        max_sum += (left_sum[i]+1)*(right_sum[i]+1)*arr[i] \n",
    "    \n",
    "    # Calculate minimum from all the contiguous subarray.\n",
    "    left_sum = [0]*n\n",
    "    right_sum = [0]*n\n",
    "    \n",
    "    min_stack = []\n",
    "    for i in range(0,n):\n",
    "        while(len(min_stack)>0 and arr[min_stack[-1]]>=arr[i]):\n",
    "            left_sum[i] += left_sum[min_stack[-1]] + 1\n",
    "            min_stack.pop()\n",
    "        min_stack.append(i)\n",
    "    min_stack.clear()    \n",
    "    \n",
    "    for j in range(n-1,-1,-1):\n",
    "        while(len(min_stack)>0 and arr[min_stack[-1]]>arr[j]):\n",
    "            right_sum[j] += right_sum[min_stack[-1]] + 1\n",
    "            min_stack.pop()\n",
    "        min_stack.append(j)\n",
    "    min_stack.clear()\n",
    "    \n",
    "    min_sum = 0\n",
    "    # Calculate the final sum.\n",
    "    for i in range(0,n):\n",
    "        min_sum += (left_sum[i]+1)*(right_sum[i]+1)*arr[i]\n",
    "        \n",
    "#     print(\"max_sum:\",max_sum)\n",
    "#     print(\"min_sum:\",min_sum)\n",
    "    difference_max_min = max_sum - min_sum\n",
    "    return difference_max_min"
   ]
  },
  {
   "cell_type": "code",
   "execution_count": 190,
   "metadata": {},
   "outputs": [
    {
     "data": {
      "text/plain": [
       "5"
      ]
     },
     "execution_count": 190,
     "metadata": {},
     "output_type": "execute_result"
    }
   ],
   "source": [
    "arr = [3,1,2]\n",
    "diff_max_min(arr)"
   ]
  },
  {
   "cell_type": "code",
   "execution_count": 163,
   "metadata": {},
   "outputs": [],
   "source": []
  },
  {
   "cell_type": "code",
   "execution_count": null,
   "metadata": {},
   "outputs": [],
   "source": []
  },
  {
   "cell_type": "code",
   "execution_count": null,
   "metadata": {},
   "outputs": [],
   "source": []
  },
  {
   "cell_type": "code",
   "execution_count": null,
   "metadata": {},
   "outputs": [],
   "source": []
  },
  {
   "cell_type": "code",
   "execution_count": null,
   "metadata": {},
   "outputs": [],
   "source": []
  },
  {
   "cell_type": "code",
   "execution_count": null,
   "metadata": {},
   "outputs": [],
   "source": []
  },
  {
   "cell_type": "code",
   "execution_count": null,
   "metadata": {},
   "outputs": [],
   "source": []
  },
  {
   "cell_type": "code",
   "execution_count": null,
   "metadata": {},
   "outputs": [],
   "source": []
  },
  {
   "cell_type": "code",
   "execution_count": null,
   "metadata": {},
   "outputs": [],
   "source": []
  },
  {
   "cell_type": "code",
   "execution_count": null,
   "metadata": {},
   "outputs": [],
   "source": []
  },
  {
   "cell_type": "code",
   "execution_count": null,
   "metadata": {},
   "outputs": [],
   "source": []
  },
  {
   "cell_type": "code",
   "execution_count": null,
   "metadata": {},
   "outputs": [],
   "source": []
  },
  {
   "cell_type": "code",
   "execution_count": null,
   "metadata": {},
   "outputs": [],
   "source": []
  },
  {
   "cell_type": "code",
   "execution_count": null,
   "metadata": {},
   "outputs": [],
   "source": []
  },
  {
   "cell_type": "code",
   "execution_count": null,
   "metadata": {},
   "outputs": [],
   "source": []
  },
  {
   "cell_type": "code",
   "execution_count": null,
   "metadata": {},
   "outputs": [],
   "source": []
  },
  {
   "cell_type": "code",
   "execution_count": null,
   "metadata": {},
   "outputs": [],
   "source": []
  },
  {
   "cell_type": "code",
   "execution_count": null,
   "metadata": {},
   "outputs": [],
   "source": []
  },
  {
   "cell_type": "code",
   "execution_count": null,
   "metadata": {},
   "outputs": [],
   "source": []
  },
  {
   "cell_type": "code",
   "execution_count": null,
   "metadata": {},
   "outputs": [],
   "source": []
  },
  {
   "cell_type": "code",
   "execution_count": null,
   "metadata": {},
   "outputs": [],
   "source": []
  },
  {
   "cell_type": "code",
   "execution_count": null,
   "metadata": {},
   "outputs": [],
   "source": []
  },
  {
   "cell_type": "code",
   "execution_count": null,
   "metadata": {},
   "outputs": [],
   "source": []
  },
  {
   "cell_type": "code",
   "execution_count": null,
   "metadata": {},
   "outputs": [],
   "source": []
  },
  {
   "cell_type": "code",
   "execution_count": null,
   "metadata": {},
   "outputs": [],
   "source": []
  },
  {
   "cell_type": "code",
   "execution_count": null,
   "metadata": {},
   "outputs": [],
   "source": []
  },
  {
   "cell_type": "code",
   "execution_count": null,
   "metadata": {},
   "outputs": [],
   "source": []
  },
  {
   "cell_type": "code",
   "execution_count": null,
   "metadata": {},
   "outputs": [],
   "source": []
  },
  {
   "cell_type": "code",
   "execution_count": null,
   "metadata": {},
   "outputs": [],
   "source": []
  },
  {
   "cell_type": "code",
   "execution_count": null,
   "metadata": {},
   "outputs": [],
   "source": []
  },
  {
   "cell_type": "code",
   "execution_count": null,
   "metadata": {},
   "outputs": [],
   "source": []
  },
  {
   "cell_type": "code",
   "execution_count": null,
   "metadata": {},
   "outputs": [],
   "source": []
  },
  {
   "cell_type": "code",
   "execution_count": null,
   "metadata": {},
   "outputs": [],
   "source": []
  },
  {
   "cell_type": "code",
   "execution_count": null,
   "metadata": {},
   "outputs": [],
   "source": []
  }
 ],
 "metadata": {
  "kernelspec": {
   "display_name": "Python 3",
   "language": "python",
   "name": "python3"
  },
  "language_info": {
   "codemirror_mode": {
    "name": "ipython",
    "version": 3
   },
   "file_extension": ".py",
   "mimetype": "text/x-python",
   "name": "python",
   "nbconvert_exporter": "python",
   "pygments_lexer": "ipython3",
   "version": "3.7.6"
  }
 },
 "nbformat": 4,
 "nbformat_minor": 4
}
