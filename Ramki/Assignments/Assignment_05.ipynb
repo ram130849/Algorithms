{
 "cells": [
  {
   "cell_type": "code",
   "execution_count": 24,
   "metadata": {},
   "outputs": [],
   "source": [
    "class amor_dict():\n",
    "    \n",
    "    def __init__(self,list1):\n",
    "        self.elements = list1\n",
    "        dict_units = len(self.elements)\n",
    "        dict_units = bin(dict_units)\n",
    "        dict_units = list(dict_units)\n",
    "        solution = ''\n",
    "        \n",
    "        iterator=len(dict_units)-1\n",
    "        while(iterator>1):\n",
    "            solution = solution + dict_units[iterator]\n",
    "            iterator = iterator - 1 \n",
    "        dict_units = solution\n",
    "        \n",
    "        self.dicti = {iterator: [] for iterator in range(len(dict_units))}\n",
    "        \n",
    "        tally = 1\n",
    "        for char in dict_units:\n",
    "            if char == '1':\n",
    "                last = 2**(tally-1)\n",
    "                temp_list = list1[0:last]\n",
    "                list1 = list1[last:]\n",
    "                temp_list = sorted(temp_list)\n",
    "                for element in temp_list:\n",
    "                    self.dicti[tally-1].append(element)\n",
    "            tally = tally + 1\n",
    "    \n",
    "    def insert(self, val):\n",
    "        self.elements.insert(0,val)\n",
    "        list1=self.elements\n",
    "        dict_units = len(list1)\n",
    "        dict_units = bin(dict_units)\n",
    "        dict_units = list(dict_units)\n",
    "        solution = ''\n",
    "        \n",
    "        iterator=len(dict_units)-1\n",
    "        while(iterator>1):\n",
    "            solution = solution + dict_units[iterator]\n",
    "            iterator = iterator - 1 \n",
    "        dict_units = solution\n",
    "        \n",
    "        self.dicti = {iterator: [] for iterator in range(len(dict_units))}\n",
    "        tally = 1\n",
    "        for char in dict_units:\n",
    "            if char == '1':\n",
    "                last = 2**(tally-1)\n",
    "                temp_list = list1[0:last]\n",
    "                list1 = list1[last:]\n",
    "                temp_list = sorted(temp_list)\n",
    "                for element in temp_list:\n",
    "                    self.dicti[tally-1].append(element)\n",
    "            tally = tally + 1\n",
    "    \n",
    "    def search(self, val):\n",
    "        for element in self.elements:\n",
    "            if element == val:\n",
    "                return 1\n",
    "        return -1\n",
    "    \n",
    "    def print(self):\n",
    "        for tally in range(len(self.dicti)):\n",
    "            if self.dicti[tally] == []:\n",
    "                print(tally,\":\",\"empty\")\n",
    "            else:\n",
    "                print(tally,\":\",self.dicti[tally])\n",
    "        print(\"\\n\")\n"
   ]
  },
  {
   "cell_type": "code",
   "execution_count": 25,
   "metadata": {},
   "outputs": [
    {
     "name": "stdout",
     "output_type": "stream",
     "text": [
      "0 : empty\n",
      "1 : empty\n",
      "2 : [1, 2, 3, 4]\n",
      "\n",
      "\n",
      "0 : [6]\n",
      "1 : empty\n",
      "2 : [1, 2, 3, 4]\n",
      "\n",
      "\n",
      "0 : empty\n",
      "1 : [5, 6]\n",
      "2 : [1, 2, 3, 4]\n",
      "\n",
      "\n",
      "search for 5: 1\n",
      "search for 7: -1\n"
     ]
    }
   ],
   "source": [
    "list1=[1,2,3,4]\n",
    "ad_obj=amor_dict(list1)\n",
    "ad_obj.print()\n",
    "ad_obj.insert(6)\n",
    "ad_obj.print()\n",
    "ad_obj.insert(5)\n",
    "ad_obj.print()\n",
    "print(\"search for 5:\",ad_obj.search(5))\n",
    "print(\"search for 7:\",ad_obj.search(7))"
   ]
  },
  {
   "cell_type": "code",
   "execution_count": 26,
   "metadata": {},
   "outputs": [],
   "source": [
    "def count_digit_string(n):\n",
    "    \n",
    "    sequence = n\n",
    "    \n",
    "    if sequence==1:\n",
    "        return '1'\n",
    "    \n",
    "    current_term = count_digit_string(n-1)\n",
    "    solution = ''\n",
    "    string_length = len(current_term)\n",
    "    \n",
    "    iterator = 0\n",
    "    while iterator<string_length:\n",
    "        tally = 1\n",
    "        while(iterator+1<string_length and current_term[iterator]==current_term[iterator+1]):\n",
    "            tally+=1\n",
    "            iterator+=1\n",
    "        \n",
    "        solution = solution + str(tally) + current_term[iterator]\n",
    "        iterator = iterator + 1\n",
    "        \n",
    "    return solution"
   ]
  },
  {
   "cell_type": "code",
   "execution_count": 27,
   "metadata": {},
   "outputs": [
    {
     "data": {
      "text/plain": [
       "'1211'"
      ]
     },
     "execution_count": 27,
     "metadata": {},
     "output_type": "execute_result"
    }
   ],
   "source": [
    "count_digit_string(4)"
   ]
  },
  {
   "cell_type": "code",
   "execution_count": 28,
   "metadata": {},
   "outputs": [
    {
     "data": {
      "text/plain": [
       "'312211'"
      ]
     },
     "execution_count": 28,
     "metadata": {},
     "output_type": "execute_result"
    }
   ],
   "source": [
    "count_digit_string(6)"
   ]
  },
  {
   "cell_type": "code",
   "execution_count": 29,
   "metadata": {},
   "outputs": [
    {
     "data": {
      "text/plain": [
       "'1113213211'"
      ]
     },
     "execution_count": 29,
     "metadata": {},
     "output_type": "execute_result"
    }
   ],
   "source": [
    "count_digit_string(8)"
   ]
  },
  {
   "cell_type": "code",
   "execution_count": null,
   "metadata": {},
   "outputs": [],
   "source": []
  }
 ],
 "metadata": {
  "kernelspec": {
   "display_name": "Python 3",
   "language": "python",
   "name": "python3"
  },
  "language_info": {
   "codemirror_mode": {
    "name": "ipython",
    "version": 3
   },
   "file_extension": ".py",
   "mimetype": "text/x-python",
   "name": "python",
   "nbconvert_exporter": "python",
   "pygments_lexer": "ipython3",
   "version": "3.7.6"
  }
 },
 "nbformat": 4,
 "nbformat_minor": 5
}
