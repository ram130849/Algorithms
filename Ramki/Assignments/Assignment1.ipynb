{
 "cells": [
  {
   "cell_type": "code",
   "execution_count": 289,
   "metadata": {},
   "outputs": [],
   "source": [
    "# def get_distance(arr):\n",
    "#     sum_of_pair_distances = 0\n",
    "# #     n = len(arr)\n",
    "#     for i in range(32):\n",
    "#         cnt = 0\n",
    "#         for j in range(len(arr)):\n",
    "#             if(arr[j] & (1 << i)):\n",
    "#                 cnt += 1\n",
    "#         sum_of_pair_distances += (cnt*(len(arr)-cnt)*2)\n",
    "#     return sum_of_pair_distances"
   ]
  },
  {
   "cell_type": "code",
   "execution_count": 291,
   "metadata": {},
   "outputs": [
    {
     "data": {
      "text/plain": [
       "8"
      ]
     },
     "execution_count": 291,
     "metadata": {},
     "output_type": "execute_result"
    }
   ],
   "source": [
    "# get_distance([58,72])"
   ]
  },
  {
   "cell_type": "code",
   "execution_count": 278,
   "metadata": {},
   "outputs": [],
   "source": [
    "# def move_steps(k):\n",
    "#     if(k==1):\n",
    "#         return 1\n",
    "#     if(k==2):\n",
    "#         return 2\n",
    "#     answer = 0\n",
    "#     answer += move_steps(k-1)+move_steps(k-2)\n",
    "#     return answer"
   ]
  },
  {
   "cell_type": "code",
   "execution_count": 279,
   "metadata": {},
   "outputs": [
    {
     "data": {
      "text/plain": [
       "5"
      ]
     },
     "execution_count": 279,
     "metadata": {},
     "output_type": "execute_result"
    }
   ],
   "source": [
    "# move_steps(4)"
   ]
  },
  {
   "cell_type": "code",
   "execution_count": 280,
   "metadata": {},
   "outputs": [],
   "source": [
    "# def decode_message(s):\n",
    "#     message=''\n",
    "#     for i in range(len(s)):\n",
    "#         if(int((i+1)%3)==0 and s[i]==s[i-1]):\n",
    "#             continue\n",
    "#         message+=s[i]\n",
    "#     return message"
   ]
  },
  {
   "cell_type": "code",
   "execution_count": 281,
   "metadata": {},
   "outputs": [
    {
     "data": {
      "text/plain": [
       "'this is a test'"
      ]
     },
     "execution_count": 281,
     "metadata": {},
     "output_type": "execute_result"
    }
   ],
   "source": [
    "# decode_message(\"this is a test\")"
   ]
  },
  {
   "cell_type": "code",
   "execution_count": 282,
   "metadata": {},
   "outputs": [],
   "source": [
    "# def count_sub_strs(s: str) ->int:\n",
    "#     # Count the number of substrings that have equal number of consecutive a's followed by b's or vice versa\n",
    "#     groups=[1]\n",
    "#     number_of_sub_strings = 0\n",
    "#     for i in range(1,len(s)):\n",
    "#         if(s[i]!=s[i-1]):\n",
    "#             groups.append(1)\n",
    "#         else:\n",
    "#             groups[-1]+=1\n",
    "#     for i in range(1,len(groups)):\n",
    "#         number_of_sub_strings+=min(groups[i],groups[i-1])\n",
    "#     return number_of_sub_strings"
   ]
  },
  {
   "cell_type": "code",
   "execution_count": 283,
   "metadata": {},
   "outputs": [
    {
     "data": {
      "text/plain": [
       "3"
      ]
     },
     "execution_count": 283,
     "metadata": {},
     "output_type": "execute_result"
    }
   ],
   "source": [
    "# count_sub_strs('aabba')"
   ]
  },
  {
   "cell_type": "code",
   "execution_count": 284,
   "metadata": {},
   "outputs": [],
   "source": [
    "# def check_transformation(s1, s2):\n",
    "#     # your code here\n",
    "#     canTransform=True\n",
    "#     map_dict={}\n",
    "#     for i in range(len(s1)):\n",
    "#         if(s1[i] not in map_dict):\n",
    "#             map_dict[s1[i]] = s2[i]\n",
    "#         else:\n",
    "#             if(map_dict[s1[i]]!=s2[i]):\n",
    "#                 canTransform=False\n",
    "#     return canTransform"
   ]
  },
  {
   "cell_type": "code",
   "execution_count": 285,
   "metadata": {},
   "outputs": [
    {
     "data": {
      "text/plain": [
       "False"
      ]
     },
     "execution_count": 285,
     "metadata": {},
     "output_type": "execute_result"
    }
   ],
   "source": [
    "# check_transformation('abb','abc')"
   ]
  },
  {
   "cell_type": "code",
   "execution_count": null,
   "metadata": {},
   "outputs": [],
   "source": [
    "# rmnbhv,abacde"
   ]
  },
  {
   "cell_type": "code",
   "execution_count": null,
   "metadata": {},
   "outputs": [],
   "source": [
    "# bcba,bcbc"
   ]
  },
  {
   "cell_type": "code",
   "execution_count": null,
   "metadata": {},
   "outputs": [],
   "source": [
    "# test case: aabbcddeefgghhijjkklmmnnoppqqrssttuvvwwxyyzz\n",
    "# expected_result: aabbccddeeffgghhiijjkkllmmnnooppqqrrssttuuvvwwxxyyzz"
   ]
  },
  {
   "cell_type": "code",
   "execution_count": 346,
   "metadata": {},
   "outputs": [],
   "source": [
    "def depth(s:str):\n",
    "    stack = []\n",
    "    max_length = 0\n",
    "    not_finished = True\n",
    "    count = 1\n",
    "    for i in range(len(s)):\n",
    "        if(i==len(s)-1):\n",
    "            not_finished = False\n",
    "        if(s[i]=='('):\n",
    "            stack.append(s[i])\n",
    "        elif(s[i]==')'):\n",
    "            if(len(stack)==0 and not_finished):\n",
    "                count = 0\n",
    "                continue\n",
    "            elif(len(stack)==0):\n",
    "                return count\n",
    "            count = len(stack)\n",
    "            max_length = max(max_length,count)\n",
    "            stack.pop()\n",
    "        print(\"i,s[i]:\",i,s[i],not_finished,stack,count,max_length)\n",
    "    return max_length"
   ]
  },
  {
   "cell_type": "code",
   "execution_count": 347,
   "metadata": {},
   "outputs": [
    {
     "name": "stdout",
     "output_type": "stream",
     "text": [
      "i,s[i]: 0 ( True ['('] 1 0\n",
      "i,s[i]: 1 ( True ['(', '('] 1 0\n",
      "i,s[i]: 2 ) True ['('] 2 2\n",
      "i,s[i]: 3 ) True [] 1 2\n",
      "i,s[i]: 4 ( True ['('] 1 2\n",
      "i,s[i]: 5 ( True ['(', '('] 1 2\n",
      "i,s[i]: 6 ( True ['(', '(', '('] 1 2\n",
      "i,s[i]: 7 ) True ['(', '('] 3 3\n",
      "i,s[i]: 8 ) True ['('] 2 3\n",
      "i,s[i]: 9 ) False [] 1 3\n",
      "3\n"
     ]
    }
   ],
   "source": [
    "print(depth('(())((()))'))"
   ]
  },
  {
   "cell_type": "code",
   "execution_count": 337,
   "metadata": {},
   "outputs": [],
   "source": [
    "def depth(s):\n",
    "    count = 0\n",
    "    stack = []\n",
    "    for i in range(len(s)):\n",
    "        if(s[i]=='('):\n",
    "            stack.append('(')\n",
    "        elif(s[i]==')'):\n",
    "            if(count<len(stack)):\n",
    "                count = len(stack)\n",
    "            stack.pop()\n",
    "    return count"
   ]
  },
  {
   "cell_type": "code",
   "execution_count": 338,
   "metadata": {},
   "outputs": [
    {
     "data": {
      "text/plain": [
       "2"
      ]
     },
     "execution_count": 338,
     "metadata": {},
     "output_type": "execute_result"
    }
   ],
   "source": [
    "depth('()(())')"
   ]
  },
  {
   "cell_type": "code",
   "execution_count": null,
   "metadata": {},
   "outputs": [],
   "source": []
  },
  {
   "cell_type": "code",
   "execution_count": null,
   "metadata": {},
   "outputs": [],
   "source": []
  },
  {
   "cell_type": "code",
   "execution_count": null,
   "metadata": {},
   "outputs": [],
   "source": []
  },
  {
   "cell_type": "code",
   "execution_count": null,
   "metadata": {},
   "outputs": [],
   "source": []
  },
  {
   "cell_type": "code",
   "execution_count": null,
   "metadata": {},
   "outputs": [],
   "source": []
  },
  {
   "cell_type": "code",
   "execution_count": null,
   "metadata": {},
   "outputs": [],
   "source": []
  },
  {
   "cell_type": "code",
   "execution_count": null,
   "metadata": {},
   "outputs": [],
   "source": []
  },
  {
   "cell_type": "code",
   "execution_count": null,
   "metadata": {},
   "outputs": [],
   "source": []
  },
  {
   "cell_type": "code",
   "execution_count": null,
   "metadata": {},
   "outputs": [],
   "source": []
  },
  {
   "cell_type": "code",
   "execution_count": null,
   "metadata": {},
   "outputs": [],
   "source": []
  },
  {
   "cell_type": "code",
   "execution_count": null,
   "metadata": {},
   "outputs": [],
   "source": []
  },
  {
   "cell_type": "code",
   "execution_count": null,
   "metadata": {},
   "outputs": [],
   "source": []
  },
  {
   "cell_type": "code",
   "execution_count": null,
   "metadata": {},
   "outputs": [],
   "source": []
  },
  {
   "cell_type": "code",
   "execution_count": null,
   "metadata": {},
   "outputs": [],
   "source": []
  },
  {
   "cell_type": "code",
   "execution_count": null,
   "metadata": {},
   "outputs": [],
   "source": []
  },
  {
   "cell_type": "code",
   "execution_count": null,
   "metadata": {},
   "outputs": [],
   "source": []
  },
  {
   "cell_type": "code",
   "execution_count": null,
   "metadata": {},
   "outputs": [],
   "source": []
  },
  {
   "cell_type": "code",
   "execution_count": null,
   "metadata": {},
   "outputs": [],
   "source": []
  },
  {
   "cell_type": "code",
   "execution_count": null,
   "metadata": {},
   "outputs": [],
   "source": []
  },
  {
   "cell_type": "code",
   "execution_count": null,
   "metadata": {},
   "outputs": [],
   "source": []
  },
  {
   "cell_type": "code",
   "execution_count": null,
   "metadata": {},
   "outputs": [],
   "source": []
  },
  {
   "cell_type": "code",
   "execution_count": null,
   "metadata": {},
   "outputs": [],
   "source": []
  },
  {
   "cell_type": "code",
   "execution_count": null,
   "metadata": {},
   "outputs": [],
   "source": []
  },
  {
   "cell_type": "code",
   "execution_count": null,
   "metadata": {},
   "outputs": [],
   "source": []
  },
  {
   "cell_type": "code",
   "execution_count": null,
   "metadata": {},
   "outputs": [],
   "source": []
  },
  {
   "cell_type": "code",
   "execution_count": null,
   "metadata": {},
   "outputs": [],
   "source": []
  },
  {
   "cell_type": "code",
   "execution_count": null,
   "metadata": {},
   "outputs": [],
   "source": []
  },
  {
   "cell_type": "code",
   "execution_count": null,
   "metadata": {},
   "outputs": [],
   "source": []
  },
  {
   "cell_type": "code",
   "execution_count": null,
   "metadata": {},
   "outputs": [],
   "source": []
  },
  {
   "cell_type": "code",
   "execution_count": null,
   "metadata": {},
   "outputs": [],
   "source": []
  },
  {
   "cell_type": "code",
   "execution_count": null,
   "metadata": {},
   "outputs": [],
   "source": []
  },
  {
   "cell_type": "code",
   "execution_count": null,
   "metadata": {},
   "outputs": [],
   "source": []
  }
 ],
 "metadata": {
  "kernelspec": {
   "display_name": "Python 3",
   "language": "python",
   "name": "python3"
  },
  "language_info": {
   "codemirror_mode": {
    "name": "ipython",
    "version": 3
   },
   "file_extension": ".py",
   "mimetype": "text/x-python",
   "name": "python",
   "nbconvert_exporter": "python",
   "pygments_lexer": "ipython3",
   "version": "3.7.6"
  }
 },
 "nbformat": 4,
 "nbformat_minor": 4
}
