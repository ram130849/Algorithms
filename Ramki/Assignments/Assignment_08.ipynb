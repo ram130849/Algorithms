{
 "cells": [
  {
   "cell_type": "code",
   "execution_count": 293,
   "metadata": {},
   "outputs": [],
   "source": [
    "def heapify(timesheet_list, total_tally, heap_iterator):\n",
    "    largest = heap_iterator  \n",
    "    heap_left = 2 * heap_iterator + 1\n",
    "    heap_right = 2 * heap_iterator + 2\n",
    "    \n",
    "    if heap_left < total_tally and timesheet_list[heap_iterator] < timesheet_list[heap_left]:\n",
    "        largest = heap_left\n",
    "\n",
    "    if heap_right < total_tally and timesheet_list[largest] < timesheet_list[heap_right]:\n",
    "        largest = heap_right\n",
    " \n",
    "    if largest != heap_iterator:\n",
    "        (timesheet_list[heap_iterator], timesheet_list[largest]) = (timesheet_list[largest], timesheet_list[heap_iterator])\n",
    " \n",
    "        heapify(timesheet_list, total_tally, largest)\n",
    "    \n",
    "def heapSort(timesheet_list):\n",
    "    total_tally = len(timesheet_list) # Constructing a maxheap.\n",
    " \n",
    "    for heap_iterator in range(total_tally // 2 - 1, -1, -1):\n",
    "        heapify(timesheet_list, total_tally, heap_iterator)\n",
    " \n",
    "    for heap_iterator in range(total_tally - 1, 0, -1):\n",
    "        (timesheet_list[heap_iterator], timesheet_list[0]) = (timesheet_list[0], timesheet_list[heap_iterator])  # swap\n",
    "        heapify(timesheet_list, heap_iterator, 0)\n",
    "\n",
    "def maxEmployees(list1, list2):\n",
    "    \n",
    "    total_tally = len(list1)\n",
    "    findMaxIndividuals(list1, list2, total_tally)\n",
    "    \n",
    "def findMaxIndividuals(timesheet_listl, exit, total_tally):\n",
    "    len_exit = len(exit)\n",
    "\n",
    "    heapSort(timesheet_listl)\n",
    "    heapSort(exit)\n",
    "    \n",
    "    individuals_in = 1;\n",
    "    individual_list = [1]\n",
    "    max_individuals = 1;\n",
    "    \n",
    "    tally = 0\n",
    "    time = timesheet_listl[0];\n",
    "    individuals_iterator = 1;\n",
    "    individuals_iterator_j = 0;\n",
    "    \n",
    "    while (individuals_iterator < total_tally and individuals_iterator_j < total_tally):         \n",
    "        if (timesheet_listl[individuals_iterator] <= exit[individuals_iterator_j]):\n",
    "            individuals_in = individuals_in + 1;\n",
    "            individual_list.append(individuals_in)\n",
    "            if(individuals_in > max_individuals):\n",
    "                max_individuals = individuals_in;\n",
    "                tally += 1\n",
    "            individuals_iterator = individuals_iterator + 1;\n",
    "     \n",
    "        else:\n",
    "            individuals_in = individuals_in - 1;\n",
    "            individual_list.append(individuals_in)\n",
    "            individuals_iterator_j = individuals_iterator_j + 1;\n",
    "    \n",
    "    highest_individual = 0\n",
    "    for individuals_iterator in individual_list:\n",
    "        if individuals_iterator>highest_individual:\n",
    "            highest_individual = individuals_iterator\n",
    "    \n",
    "    count_freq = 0\n",
    "    for individuals_iterator in individual_list:\n",
    "        if highest_individual == individuals_iterator:\n",
    "            count_freq = count_freq + 1\n",
    "    \n",
    "    print (highest_individual, count_freq)\n",
    "\n"
   ]
  },
  {
   "cell_type": "code",
   "execution_count": 294,
   "metadata": {},
   "outputs": [
    {
     "name": "stdout",
     "output_type": "stream",
     "text": [
      "3 2\n"
     ]
    }
   ],
   "source": [
    "# Driver Code\n",
    "arrl = [1, 2, 4, 7, 8, 12];\n",
    "exit = [3, 7, 8, 12 ,10, 15];\n",
    "\n",
    "maxEmployees(arrl,exit)"
   ]
  },
  {
   "cell_type": "code",
   "execution_count": 295,
   "metadata": {},
   "outputs": [
    {
     "name": "stdout",
     "output_type": "stream",
     "text": [
      "3 5\n"
     ]
    }
   ],
   "source": [
    "# Driver Code\n",
    "arrl = [2,2,3,5,6,7,10];\n",
    "exit = [4,5,7,10,6,10,11];\n",
    "n = len(arrl);\n",
    "findMaxGuests(arrl, exit, n);"
   ]
  },
  {
   "cell_type": "code",
   "execution_count": 296,
   "metadata": {},
   "outputs": [],
   "source": [
    "def find_largest_integer(num : int):\n",
    "    \n",
    "    immediate_smallest = list(map(int, str(num)))\n",
    "    \n",
    "    immediate_size = len(immediate_smallest)\n",
    "    flag = immediate_size - 2\n",
    "    while flag >= 0:\n",
    "        if immediate_smallest[flag] > immediate_smallest[flag + 1]:\n",
    "            break\n",
    "        flag = flag - 1\n",
    "         \n",
    "    if flag < 0:\n",
    "        return -1\n",
    "    else:\n",
    "        for iterator in range(immediate_size - 1, flag, -1):\n",
    "            if immediate_smallest[iterator] < immediate_smallest[flag]:\n",
    "                break\n",
    "                \n",
    "        immediate_smallest[iterator], immediate_smallest[flag] = immediate_smallest[flag], immediate_smallest[iterator]\n",
    "         \n",
    "        immediate_smallest[flag + 1:] = reversed(immediate_smallest[flag + 1:])\n",
    "        \n",
    "    largest_integer_final = ''    \n",
    "    for find_largest_iterator in immediate_smallest:\n",
    "        largest_integer_final = largest_integer_final + str(find_largest_iterator)\n",
    "    largest_integer_final = int(largest_integer_final)\n",
    " \n",
    "    return largest_integer_final\n",
    "    \n"
   ]
  },
  {
   "cell_type": "code",
   "execution_count": 297,
   "metadata": {},
   "outputs": [
    {
     "data": {
      "text/plain": [
       "18697"
      ]
     },
     "execution_count": 297,
     "metadata": {},
     "output_type": "execute_result"
    }
   ],
   "source": [
    "find_largest_integer(18769)"
   ]
  },
  {
   "cell_type": "code",
   "execution_count": 298,
   "metadata": {},
   "outputs": [
    {
     "data": {
      "text/plain": [
       "527"
      ]
     },
     "execution_count": 298,
     "metadata": {},
     "output_type": "execute_result"
    }
   ],
   "source": [
    "find_largest_integer(572)"
   ]
  },
  {
   "cell_type": "code",
   "execution_count": 299,
   "metadata": {},
   "outputs": [
    {
     "data": {
      "text/plain": [
       "-1"
      ]
     },
     "execution_count": 299,
     "metadata": {},
     "output_type": "execute_result"
    }
   ],
   "source": [
    "find_largest_integer(123)"
   ]
  },
  {
   "cell_type": "code",
   "execution_count": 300,
   "metadata": {},
   "outputs": [],
   "source": [
    "def bug_free_partition(bug_free_array, least, peak):\n",
    "    \n",
    "    pivot = bug_free_array[peak]\n",
    "    iterator = least-1\n",
    "    \n",
    "    for quick_j in range(least, peak):\n",
    "        if bug_free_array[quick_j] <= pivot:\n",
    "            iterator = iterator+1\n",
    "            \n",
    "            (bug_free_array[iterator],bug_free_array[quick_j]) = (bug_free_array[quick_j],bug_free_array[iterator])\n",
    "    (bug_free_array[iterator+1], bug_free_array[peak]) = (bug_free_array[peak], bug_free_array[iterator+1])\n",
    "        \n",
    "    return iterator+1\n",
    "    \n",
    "def quick_sorting(bug_free_array, least, peak):\n",
    "    \n",
    "    if least<peak:\n",
    "        \n",
    "        pi = bug_free_partition(bug_free_array, least, peak)\n",
    "        quick_sorting(bug_free_array, least, pi-1)\n",
    "        quick_sorting(bug_free_array, pi+1, peak)\n",
    "        \n",
    "\n",
    "def quick_sort(arr):\n",
    "    \n",
    "    peak = len(arr)\n",
    "    quick_sorting(arr, 0, peak-1)\n",
    "\n",
    "        \n"
   ]
  },
  {
   "cell_type": "code",
   "execution_count": 301,
   "metadata": {},
   "outputs": [
    {
     "name": "stdout",
     "output_type": "stream",
     "text": [
      "[2, 3, 4, 8, 9]\n"
     ]
    }
   ],
   "source": [
    "arr = [4,8,2,9,3]\n",
    "quick_sort(arr)\n",
    "print(arr)\n"
   ]
  },
  {
   "cell_type": "code",
   "execution_count": 302,
   "metadata": {},
   "outputs": [
    {
     "name": "stdout",
     "output_type": "stream",
     "text": [
      "[1, 10, 23, 65, 74]\n"
     ]
    }
   ],
   "source": [
    "arr = [10,65,74,1,23]\n",
    "quick_sort(arr)\n",
    "print(arr)\n"
   ]
  },
  {
   "cell_type": "code",
   "execution_count": 303,
   "metadata": {},
   "outputs": [],
   "source": [
    "class node:\n",
    "    def __init__(self, val, range_query_L=None, range_query_R=None):\n",
    "        self.val = val\n",
    "        self.range_query_L = range_query_L\n",
    "        self.range_query_R = range_query_R\n",
    "\n",
    "class Wavelet_Tree:\n",
    "    def __init__(self ,A:list[int]):\n",
    "        wave_array = A\n",
    "        self.wave_array = wave_array\n",
    "        self.Tally = []\n",
    "        self.wavelet_centre = (min(self.wave_array) + max(self.wave_array)) \n",
    "        self.wavelet_centre = self.wavelet_centre/2\n",
    "        self.freq = [0] * len(self.wave_array)\n",
    "        \n",
    "        wavelet_iterator=0\n",
    "        while(wavelet_iterator<len(self.wave_array)):\n",
    "            if self.wave_array[wavelet_iterator] > self.wavelet_centre:\n",
    "                self.freq[wavelet_iterator] = 1\n",
    "            wavelet_iterator=wavelet_iterator+1\n",
    "        self.Tally.append(self.wave_array)\n",
    "        self.Tally.append(self.freq)\n",
    "        self.createWaveletTree()\n",
    "            \n",
    "       \n",
    "    def createWaveletTree(self):\n",
    "        quantile_arrangement = []\n",
    "        level = 0\n",
    "            \n",
    "        self.starting_point = node(self.Tally)\n",
    "        quantile_arrangement.append(self.starting_point)\n",
    "        while(quantile_arrangement):\n",
    "            levelOrderTree = []\n",
    "            for wavelet_iterator_j in range(len(quantile_arrangement)):\n",
    "                visited = quantile_arrangement.pop(0)\n",
    "                if len(set(visited.val[0])) == 1:\n",
    "                    continue\n",
    "                self.wavelet_centre = (min(visited.val[0]) + max(visited.val[0])) / 2\n",
    "                range_query_LTemporary_Q = []\n",
    "                range_query_RTemporary_Q = []\n",
    "                wavelet_current = visited\n",
    "                if(len(visited.val[0])) < 2:\n",
    "                    continue\n",
    "                for wavelet_iterator in range(len(visited.val[0])):\n",
    "                    if visited.val[0][wavelet_iterator] <= self.wavelet_centre:\n",
    "                        if range_query_LTemporary_Q == []:\n",
    "                            range_query_LTemporary_Q.append([visited.val[0][wavelet_iterator]])\n",
    "                            range_query_LTemporary_Q.append([0])\n",
    "                        else:\n",
    "                            range_query_LTemporary_Q[0].append(visited.val[0][wavelet_iterator])\n",
    "                            range_query_LTemporary_Q[1].append(0)\n",
    "                    else:\n",
    "                        if range_query_RTemporary_Q == []:\n",
    "                            range_query_RTemporary_Q.append([visited.val[0][wavelet_iterator]])\n",
    "                            range_query_RTemporary_Q.append([1])\n",
    "                        else:\n",
    "                            range_query_RTemporary_Q[0].append(visited.val[0][wavelet_iterator])\n",
    "                            range_query_RTemporary_Q[1].append(1)\n",
    "                            \n",
    "                if range_query_LTemporary_Q != []:\n",
    "                    wavelet_centreRange_query_L = (min(range_query_LTemporary_Q[0]) + max(range_query_LTemporary_Q[0]))\n",
    "                    wavelet_centreRange_query_L = wavelet_centreRange_query_L/2\n",
    "                if range_query_RTemporary_Q != []:\n",
    "                    wavelet_centreRange_query_R = (min(range_query_RTemporary_Q[0]) + max(range_query_RTemporary_Q[0]))\n",
    "                    wavelet_centreRange_query_R = wavelet_centreRange_query_R/2\n",
    "                if range_query_LTemporary_Q != []:\n",
    "                    for wavelet_iterator_k in range(len(range_query_LTemporary_Q[0])):\n",
    "                        if range_query_LTemporary_Q[0][wavelet_iterator_k] <= wavelet_centreRange_query_L:\n",
    "                            range_query_LTemporary_Q[1][wavelet_iterator_k] = 0\n",
    "                        else:\n",
    "                            range_query_LTemporary_Q[1][wavelet_iterator_k] = 1\n",
    "                    wavelet_current.range_query_L = node(range_query_LTemporary_Q)\n",
    "                if range_query_RTemporary_Q != []:\n",
    "                    for wavelet_iterator_m in range(len(range_query_RTemporary_Q[0])):\n",
    "                        if range_query_RTemporary_Q[0][wavelet_iterator_m] <= wavelet_centreRange_query_R:\n",
    "                            range_query_RTemporary_Q[1][wavelet_iterator_m] = 0\n",
    "                        else:\n",
    "                            range_query_RTemporary_Q[1][wavelet_iterator_m] = 1\n",
    "                    wavelet_current.range_query_R = node(range_query_RTemporary_Q)\n",
    "                    \n",
    "                if wavelet_current.range_query_L:\n",
    "                    quantile_arrangement.append(wavelet_current.range_query_L)\n",
    "                if wavelet_current.range_query_R:\n",
    "                    quantile_arrangement.append(wavelet_current.range_query_R)\n",
    "                \n",
    "    def print(self):\n",
    "        quantile_arrangement = []\n",
    "        level = 0\n",
    "        quantile_arrangement.append(self.starting_point)\n",
    "        levelOrderTree = [''.join(str(x) for x in self.starting_point.val[1])]\n",
    "        print('Level ',level, ': ', levelOrderTree)\n",
    "        while(quantile_arrangement):\n",
    "            levelOrderTree = []\n",
    "            for wavelet_iterator_j in range(len(quantile_arrangement)):\n",
    "                visited = quantile_arrangement.pop(0)\n",
    "                if len(set(visited.val[0])) == 1:\n",
    "                    continue\n",
    "                if(len(visited.val[0])) < 2:\n",
    "                    continue\n",
    "                if visited.range_query_L:\n",
    "                    quantile_arrangement.append(visited.range_query_L)\n",
    "                    if visited.range_query_L.val[1] != [0] and visited.range_query_L.val[1] != [1]:\n",
    "                        levelOrderTree.append(''.join(str(x) for x in visited.range_query_L.val[1]))\n",
    "                    else:\n",
    "                        levelOrderTree.append('X')\n",
    "                if visited.range_query_R:\n",
    "                    quantile_arrangement.append(visited.range_query_R)\n",
    "                    if visited.range_query_R.val[1] != [0] and visited.range_query_R.val[1] != [1]:\n",
    "                        levelOrderTree.append(''.join(str(x) for x in visited.range_query_R.val[1]))\n",
    "                    else:\n",
    "                        levelOrderTree.append('X')\n",
    "            if len(set(levelOrderTree)) == 1 and levelOrderTree[0] == 'X':\n",
    "                continue\n",
    "            if levelOrderTree != []:\n",
    "                level = level+1\n",
    "                print('Level ',level, ': ', levelOrderTree)\n",
    "                    \n",
    "    def RQQ(self , k:int , left:int , right:int):\n",
    "        range_query_L = left\n",
    "        range_query_R = right\n",
    "        range_query_K = k\n",
    "        wavelet_current = self.starting_point\n",
    "        level = 0\n",
    "        while wavelet_current:\n",
    "            self.positioning(k, range_query_L, range_query_R, wavelet_current)\n",
    "            quantile_pair = (k,range_query_L,range_query_R)\n",
    "            print('Level ',level,': ',quantile_pair)\n",
    "            if self.zero_range_query_L_to_range_query_R >= k:\n",
    "                range_query_L = self.wavelet_0_to_range_query_L + 1\n",
    "                range_query_R = self.wavelet_0_to_range_query_R\n",
    "                quantile_pair = (k,range_query_L,range_query_R)\n",
    "                if k == 1 and range_query_L == 1 and range_query_R == 1:\n",
    "                    print('Level ',level+1,': ',quantile_pair)\n",
    "                    wavelet_current = wavelet_current.range_query_L\n",
    "                    break\n",
    "                if wavelet_current.range_query_L:\n",
    "                    wavelet_current = wavelet_current.range_query_L\n",
    "                else:\n",
    "                    break\n",
    "            else:\n",
    "                k -= self.zero_range_query_L_to_range_query_R\n",
    "                range_query_L = self.wavelet_1_to_range_query_L + 1\n",
    "                range_query_R = self.wavelet_1_to_range_query_R\n",
    "                quantile_pair = (k,range_query_L,range_query_R)\n",
    "                if k == 1 and range_query_L == 1 and range_query_R == 1:\n",
    "                    print('Level ',level+1,': ',quantile_pair)\n",
    "                    wavelet_current = wavelet_current.range_query_R\n",
    "                    break\n",
    "                if wavelet_current.range_query_R:\n",
    "                    wavelet_current = wavelet_current.range_query_R\n",
    "                else:\n",
    "                    break\n",
    "            level += 1\n",
    "        return wavelet_current.val[0]\n",
    "   \n",
    "    def positioning(self, k, range_query_L, range_query_R, wavelet_currentNode):\n",
    "        self.wavelet_0_to_range_query_L = wavelet_currentNode.val[1][:range_query_L-1].count(0)\n",
    "        self.zero_range_query_L_to_range_query_R = wavelet_currentNode.val[1][range_query_L-1:range_query_R].count(0)\n",
    "        self.wavelet_0_to_range_query_R = wavelet_currentNode.val[1][:range_query_R].count(0)\n",
    "        self.wavelet_1_to_range_query_L = wavelet_currentNode.val[1][:range_query_L-1].count(1)\n",
    "        self.one_range_query_L_to_range_query_R = wavelet_currentNode.val[1][range_query_L-1:range_query_R].count(1)\n",
    "        self.wavelet_1_to_range_query_R = wavelet_currentNode.val[1][:range_query_R].count(1)\n",
    "\n",
    "\n"
   ]
  },
  {
   "cell_type": "code",
   "execution_count": 304,
   "metadata": {},
   "outputs": [
    {
     "name": "stdout",
     "output_type": "stream",
     "text": [
      "Wavelet-Tree: [6, 2, 0, 7, 9, 3, 1, 8, 5, 4]\n",
      "\n",
      "Level  0 :  ['1001100110']\n",
      "Level  1 :  ['00101', '00110']\n",
      "Level  2 :  ['100', '01', '010', '10']\n",
      "Level  3 :  ['01', 'X', 'X', 'X', '10', 'X', 'X', 'X']\n",
      "\n",
      "Level  0 :  (5, 3, 9)\n",
      "Level  1 :  (2, 2, 5)\n",
      "Level  2 :  (2, 2, 3)\n",
      "Level  3 :  (1, 1, 1)\n",
      "\n",
      "Minimum for RQQ (5,3,9) :  [7]\n"
     ]
    }
   ],
   "source": [
    "w = Wavelet_Tree([6, 2, 0, 7, 9, 3, 1, 8, 5, 4])\n",
    "print('Wavelet-Tree: [6, 2, 0, 7, 9, 3, 1, 8, 5, 4]')\n",
    "print()\n",
    "w.print()\n",
    "print()\n",
    "ans = w.RQQ(5,3,9)\n",
    "print()\n",
    "print('Minimum for RQQ (5,3,9) : ',ans)"
   ]
  },
  {
   "cell_type": "code",
   "execution_count": 305,
   "metadata": {},
   "outputs": [
    {
     "name": "stdout",
     "output_type": "stream",
     "text": [
      "Wavelet Tree for [1, 2, 0, 3, 4, 4]\n",
      "\n",
      "Level  0 :  ['000111']\n",
      "Level  1 :  ['010', '011']\n",
      "Level  2 :  ['10', 'X', 'X', '00']\n",
      "\n",
      "Level  0 :  (1, 5, 6)\n",
      "Level  1 :  (1, 2, 3)\n",
      "Level  2 :  (1, 1, 2)\n",
      "\n",
      "Minimum for RQQ (1,5,6) :  [4, 4]\n"
     ]
    }
   ],
   "source": [
    "w = Wavelet_Tree([1, 2, 0, 3, 4, 4])\n",
    "print('Wavelet Tree for [1, 2, 0, 3, 4, 4]')\n",
    "print()\n",
    "w.print()\n",
    "print()\n",
    "ans = w.RQQ(1,5,6)\n",
    "print()\n",
    "print('Minimum for RQQ (1,5,6) : ',ans)"
   ]
  },
  {
   "cell_type": "code",
   "execution_count": 306,
   "metadata": {},
   "outputs": [],
   "source": [
    "def overlapping(current_string1, current_string2):\n",
    "    overlap_str=\"\"\n",
    "    overlap_max=-9999999\n",
    "    string1_size=len(current_string1)\n",
    "    string2_size=len(current_string2)\n",
    "    for superstring_iterator in range(1, min(string1_size, string2_size)+1):\n",
    "        if(current_string1[string1_size-superstring_iterator:]==current_string2[0:superstring_iterator]):\n",
    "            if(overlap_max<superstring_iterator):\n",
    "                overlap_max=superstring_iterator\n",
    "                overlap_str=current_string1+current_string2[superstring_iterator:]\n",
    "\n",
    "    for superstring_iterator in range(1, min(string1_size, string2_size)+1):\n",
    "        if(current_string1[0:superstring_iterator]==current_string2[string2_size-superstring_iterator:]):\n",
    "            if(overlap_max<superstring_iterator):\n",
    "                overlap_max=superstring_iterator\n",
    "                overlap_str=current_string2+current_string1[superstring_iterator:]\n",
    "\n",
    "    return overlap_max, overlap_str\n",
    "\n",
    "def shortest_superstring(A: list[str]):\n",
    "    super_str_size=len(A)\n",
    "    while(super_str_size!=1):\n",
    "        overlap_max=-99999999\n",
    "        left_side=0\n",
    "        right_side=0\n",
    "        final_ss_output=\"\"\n",
    "        for superstring_iterator in range(super_str_size):\n",
    "            for superstring_j in range(superstring_iterator+1,super_str_size):\n",
    "                res, overlap_str=overlapping(A[superstring_iterator], A[superstring_j])\n",
    "                if(overlap_max<res):\n",
    "                    overlap_max=res\n",
    "                    final_ss_output=overlap_str\n",
    "                    left_side=superstring_iterator\n",
    "                    right_side=superstring_j\n",
    "        \n",
    "        super_str_size=super_str_size-1\n",
    "\n",
    "        if(overlap_max<0):\n",
    "            A[0]=A[0]+A[super_str_size]\n",
    "        else:\n",
    "            A[left_side]=final_ss_output\n",
    "            A[right_side]=A[super_str_size]\n",
    "        \n",
    "    return A[0]\n",
    "\n"
   ]
  },
  {
   "cell_type": "code",
   "execution_count": 307,
   "metadata": {},
   "outputs": [
    {
     "data": {
      "text/plain": [
       "'GCTAAGTTCATGCATC'"
      ]
     },
     "execution_count": 307,
     "metadata": {},
     "output_type": "execute_result"
    }
   ],
   "source": [
    "shortest_superstring([\"CATGC\", \"CTAAGT\", \"GCTA\", \"TTCA\", \"ATGCATC\"])"
   ]
  },
  {
   "cell_type": "code",
   "execution_count": 308,
   "metadata": {},
   "outputs": [],
   "source": [
    "def find_circle_A(B):\n",
    "    \n",
    "    altered_array = B.copy()\n",
    "    \n",
    "    Number_of_elements = len(altered_array)\n",
    "    circle_B_iterator = 0\n",
    "    while(circle_B_iterator<Number_of_elements-1):\n",
    "        altered_array[circle_B_iterator] = altered_array[circle_B_iterator]-altered_array[circle_B_iterator+1]\n",
    "        circle_B_iterator=circle_B_iterator+1\n",
    "    altered_array[Number_of_elements-1]=altered_array[Number_of_elements-1]-B[0]\n",
    "    \n",
    "    circle_B_iterator = 0\n",
    "    final_result = [0]*Number_of_elements\n",
    "    final_result[2] = altered_array[2]\n",
    "    temporary = final_result[2]\n",
    "    tally = 1\n",
    "    circle_B_iterator_j = Number_of_elements-3\n",
    "    storing = Number_of_elements\n",
    "    \n",
    "    while(tally<Number_of_elements):\n",
    "        current = altered_array[circle_B_iterator]+temporary\n",
    "        final_result[storing-1] = current\n",
    "        temporary = current\n",
    "        circle_B_iterator = (circle_B_iterator+circle_B_iterator_j)%Number_of_elements\n",
    "        storing = (storing+circle_B_iterator_j)%Number_of_elements\n",
    "        tally = tally + 1\n",
    "             \n",
    "    solve = final_result.copy()\n",
    "    \n",
    "    circle_B_iterator_j=0\n",
    "    solve[circle_B_iterator_j] = final_result[Number_of_elements-1]+final_result[circle_B_iterator_j]+final_result[circle_B_iterator_j+1]\n",
    "    solve[Number_of_elements-1] = final_result[Number_of_elements-2]+final_result[Number_of_elements-1]+final_result[circle_B_iterator_j]\n",
    "    \n",
    "    circle_B_iterator=1\n",
    "    while(circle_B_iterator<Number_of_elements-1):\n",
    "        solve[circle_B_iterator] = final_result[circle_B_iterator-1]+final_result[circle_B_iterator]+final_result[circle_B_iterator+1]\n",
    "        circle_B_iterator = circle_B_iterator + 1\n",
    "    \n",
    "    add_element = (B[0]-solve[0])//3\n",
    "    \n",
    "    for circle_B_iterator in range(len(final_result)):\n",
    "        final_result[circle_B_iterator]=final_result[circle_B_iterator]+add_element\n",
    "       \n",
    "    return final_result\n",
    "        \n",
    "        \n"
   ]
  },
  {
   "cell_type": "code",
   "execution_count": 309,
   "metadata": {},
   "outputs": [
    {
     "data": {
      "text/plain": [
       "[1, 2, 3, 4]"
      ]
     },
     "execution_count": 309,
     "metadata": {},
     "output_type": "execute_result"
    }
   ],
   "source": [
    "B = [7,6,9,8]\n",
    "find_circle_A(B)\n"
   ]
  },
  {
   "cell_type": "code",
   "execution_count": 310,
   "metadata": {},
   "outputs": [
    {
     "data": {
      "text/plain": [
       "[79, 9, 41, 12, 91]"
      ]
     },
     "execution_count": 310,
     "metadata": {},
     "output_type": "execute_result"
    }
   ],
   "source": [
    "B = [179,129,62,144,182]\n",
    "find_circle_A(B)\n"
   ]
  },
  {
   "cell_type": "code",
   "execution_count": 311,
   "metadata": {},
   "outputs": [
    {
     "data": {
      "text/plain": [
       "[1, 2, 3, 4, 5]"
      ]
     },
     "execution_count": 311,
     "metadata": {},
     "output_type": "execute_result"
    }
   ],
   "source": [
    "B = [8,6,9,12,10]\n",
    "find_circle_A(B)\n"
   ]
  },
  {
   "cell_type": "code",
   "execution_count": 312,
   "metadata": {},
   "outputs": [
    {
     "data": {
      "text/plain": [
       "[40, 10, 10, 70, 40, 40, 40]"
      ]
     },
     "execution_count": 312,
     "metadata": {},
     "output_type": "execute_result"
    }
   ],
   "source": [
    "B = [90,60,90,120,150,120,120]\n",
    "find_circle_A(B)"
   ]
  },
  {
   "cell_type": "code",
   "execution_count": null,
   "metadata": {},
   "outputs": [],
   "source": []
  }
 ],
 "metadata": {
  "kernelspec": {
   "display_name": "Python 3",
   "language": "python",
   "name": "python3"
  },
  "language_info": {
   "codemirror_mode": {
    "name": "ipython",
    "version": 3
   },
   "file_extension": ".py",
   "mimetype": "text/x-python",
   "name": "python",
   "nbconvert_exporter": "python",
   "pygments_lexer": "ipython3",
   "version": "3.7.6"
  }
 },
 "nbformat": 4,
 "nbformat_minor": 5
}
